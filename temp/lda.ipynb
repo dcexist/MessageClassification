{
 "cells": [
  {
   "cell_type": "markdown",
   "metadata": {},
   "source": [
    "# 参考https://blog.csdn.net/eastmount/article/details/50824215"
   ]
  },
  {
   "cell_type": "code",
   "execution_count": 1,
   "metadata": {},
   "outputs": [
    {
     "name": "stdout",
     "output_type": "stream",
     "text": [
      "type(X): <type 'numpy.ndarray'>\n",
      "shape: (395L, 4258L)\n",
      "\n",
      "[[ 1  0  1  0  0]\n",
      " [ 7  0  2  0  0]\n",
      " [ 0  0  0  1 10]\n",
      " [ 6  0  1  0  0]\n",
      " [ 0  0  0  2 14]]\n",
      "type(vocab): <type 'tuple'>\n",
      "len(vocab): 4258\n",
      "\n",
      "('church', 'pope', 'years', 'people', 'mother')\n",
      "type(titles): <type 'tuple'>\n",
      "len(titles): 395\n",
      "\n",
      "('0 UK: Prince Charles spearheads British royal revolution. LONDON 1996-08-20', '1 GERMANY: Historic Dresden church rising from WW2 ashes. DRESDEN, Germany 1996-08-21', \"2 INDIA: Mother Teresa's condition said still unstable. CALCUTTA 1996-08-23\", '3 UK: Palace warns British weekly over Charles pictures. LONDON 1996-08-25', '4 INDIA: Mother Teresa, slightly stronger, blesses nuns. CALCUTTA 1996-08-25')\n"
     ]
    }
   ],
   "source": [
    "import numpy as np  \n",
    "import lda  \n",
    "import lda.datasets  \n",
    "  \n",
    "# document-term matrix  \n",
    "X = lda.datasets.load_reuters()  \n",
    "print(\"type(X): {}\".format(type(X)))  \n",
    "print(\"shape: {}\\n\".format(X.shape))  \n",
    "print(X[:5, :5])  \n",
    "  \n",
    "# the vocab  \n",
    "vocab = lda.datasets.load_reuters_vocab()  \n",
    "print(\"type(vocab): {}\".format(type(vocab)))  \n",
    "print(\"len(vocab): {}\\n\".format(len(vocab)))  \n",
    "print(vocab[:5])  \n",
    "  \n",
    "# titles for each story  \n",
    "titles = lda.datasets.load_reuters_titles()  \n",
    "print(\"type(titles): {}\".format(type(titles)))  \n",
    "print(\"len(titles): {}\\n\".format(len(titles)))  \n",
    "print(titles[:5])  "
   ]
  },
  {
   "cell_type": "code",
   "execution_count": null,
   "metadata": {
    "collapsed": true
   },
   "outputs": [],
   "source": [
    "model = lda.LDA(n_topics=20, n_iter=500, random_state=1)  \n",
    "model.fit(X)"
   ]
  }
 ],
 "metadata": {
  "kernelspec": {
   "display_name": "Python 2",
   "language": "python",
   "name": "python2"
  },
  "language_info": {
   "codemirror_mode": {
    "name": "ipython",
    "version": 2
   },
   "file_extension": ".py",
   "mimetype": "text/x-python",
   "name": "python",
   "nbconvert_exporter": "python",
   "pygments_lexer": "ipython2",
   "version": "2.7.13"
  }
 },
 "nbformat": 4,
 "nbformat_minor": 2
}
