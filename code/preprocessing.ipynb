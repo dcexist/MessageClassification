{
 "cells": [
  {
   "cell_type": "code",
   "execution_count": 1,
   "metadata": {
    "collapsed": true
   },
   "outputs": [],
   "source": [
    "import pandas as pd\n",
    "import numpy as np\n",
    "import time\n",
    "import jieba\n",
    "import jieba.analyse\n",
    "from langconv import *\n",
    "from zh_wiki import *\n",
    "from alphachange import *"
   ]
  },
  {
   "cell_type": "code",
   "execution_count": 2,
   "metadata": {
    "collapsed": true
   },
   "outputs": [],
   "source": [
    "# 读取停用词\n",
    "stop_words=[line.strip().decode('utf-8')  for line in open('../input/stop_words.txt').readlines()]"
   ]
  },
  {
   "cell_type": "code",
   "execution_count": 3,
   "metadata": {
    "collapsed": true
   },
   "outputs": [],
   "source": [
    "# 将类别保存为txt文件\n",
    "def writeStr(str,filename):\n",
    "    fout = open('../input/'+filename, 'a+') \n",
    "    fout.write(str+'\\n')\n",
    "    fout.close()"
   ]
  },
  {
   "cell_type": "code",
   "execution_count": 4,
   "metadata": {
    "collapsed": true
   },
   "outputs": [],
   "source": [
    "def preProcess(uStr):\n",
    "    ustring = uStr.replace(' ','')\n",
    "#     去除非法字符，并以非法字符分割字符串,返回list\n",
    "    ret=string2List(ustring.decode('utf-8'))\n",
    "    msg = ''\n",
    "    for key in ret:\n",
    "#         繁体转简体\n",
    "        key = Converter('zh-hans').convert(key)\n",
    "        msg += key\n",
    "    ustring =   msg.encode('utf-8')\n",
    "    ustring = ustring.replace('x元','价钱')\n",
    "    ustring = ustring.replace('x日','日期')\n",
    "    ustring = ustring.replace('x折','打折')\n",
    "    ustring = ustring.replace('www','网站')\n",
    "    return ustring"
   ]
  },
  {
   "cell_type": "code",
   "execution_count": 5,
   "metadata": {
    "collapsed": true
   },
   "outputs": [],
   "source": [
    "def cutWords(msg,stopWords):\n",
    "    seg_list = jieba.cut(msg,cut_all=False)\n",
    "    seg_list=list(seg_list)\n",
    "    #key_list = jieba.analyse.extract_tags(msg,20) #get keywords \n",
    "    leftWords = [] \n",
    "    for i in seg_list:\n",
    "        if (i not in stopWords):\n",
    "            leftWords.append(i)        \n",
    "    return leftWords"
   ]
  },
  {
   "cell_type": "code",
   "execution_count": 6,
   "metadata": {
    "collapsed": true
   },
   "outputs": [],
   "source": [
    "def writeListWords(seg_list,filename):\n",
    "    fout = open('../input/'+filename, 'a+') \n",
    "    wordList = list(seg_list)\n",
    "    outStr = ' '\n",
    "    for word in wordList:\n",
    "        outStr += word\n",
    "        outStr += ' '\n",
    "    fout.write(outStr.encode('utf-8')+'\\n')\n",
    "    fout.close()    "
   ]
  },
  {
   "cell_type": "code",
   "execution_count": 7,
   "metadata": {},
   "outputs": [
    {
     "name": "stderr",
     "output_type": "stream",
     "text": [
      "Building prefix dict from the default dictionary ...\n",
      "Loading model from cache c:\\users\\admini~1.sky\\appdata\\local\\temp\\jieba.cache\n"
     ]
    },
    {
     "name": "stdout",
     "output_type": "stream",
     "text": [
      "<type 'file'>\n",
      "<type 'list'>\n",
      "800000\n"
     ]
    },
    {
     "name": "stderr",
     "output_type": "stream",
     "text": [
      "Loading model cost 0.292 seconds.\n",
      "Prefix dict has been built succesfully.\n"
     ]
    },
    {
     "name": "stdout",
     "output_type": "stream",
     "text": [
      "2000\n",
      "4000\n",
      "6000\n",
      "8000\n",
      "10000\n",
      "12000\n",
      "14000\n",
      "16000\n",
      "18000\n",
      "20000\n",
      "22000\n",
      "24000\n",
      "26000\n",
      "28000\n",
      "30000\n",
      "32000\n",
      "34000\n",
      "36000\n",
      "38000\n",
      "40000\n",
      "42000\n",
      "44000\n",
      "46000\n",
      "48000\n",
      "50000\n"
     ]
    }
   ],
   "source": [
    "fr = open(\"../input/80w.txt\",'r')\n",
    "print type(fr)\n",
    "arrayOfLines = fr.readlines()\n",
    "print type(arrayOfLines)\n",
    "print len(arrayOfLines)\n",
    "i=0\n",
    "for line in arrayOfLines:\n",
    "    if (i==50000):\n",
    "        break\n",
    "    i=i+1\n",
    "    if (i%2000==0):\n",
    "        print i\n",
    "    line = line.strip()\n",
    "    line = line.split('\\t')\n",
    "#     print(line[0])\n",
    "    writeStr(line[1],'classLabel.txt') \n",
    "\n",
    "#     去除非法字符、将繁体转化为简体以及其他字符串处理,返回字符串\n",
    "    ustring = preProcess(line[2])\n",
    "#     分词并去除停用词，返回数组\n",
    "    leftWords = cutWords(ustring, stop_words)\n",
    "#     保存处理后的字符串,以空格分隔\n",
    "    writeListWords(leftWords,'trainLeft.txt')"
   ]
  },
  {
   "cell_type": "code",
   "execution_count": 8,
   "metadata": {},
   "outputs": [
    {
     "name": "stdout",
     "output_type": "stream",
     "text": [
      "1000\n",
      "2000\n",
      "3000\n",
      "4000\n",
      "5000\n",
      "6000\n",
      "7000\n",
      "8000\n",
      "9000\n",
      "10000\n"
     ]
    }
   ],
   "source": [
    "fr = open(\"../input/20w.txt\")\n",
    "arrayOfLines = fr.readlines()\n",
    "len1=len(arrayOfLines)\n",
    "i=0\n",
    "for line in arrayOfLines:\n",
    "    if (i==10000):\n",
    "        break\n",
    "    i=i+1\n",
    "    if (i%1000==0):\n",
    "        print i\n",
    "    line = line.strip()\n",
    "    line = line.split('\\t')\n",
    "    writeStr(line[0],'testMsgNum.txt') \n",
    "    if len(line) == 1:\n",
    "        line.append('空')\n",
    "    ustring = preProcess(line[1])\n",
    "    leftWords = cutWords(ustring,stop_words)\n",
    "    writeListWords(leftWords,'testLeft.txt')"
   ]
  },
  {
   "cell_type": "code",
   "execution_count": null,
   "metadata": {
    "collapsed": true
   },
   "outputs": [],
   "source": []
  }
 ],
 "metadata": {
  "kernelspec": {
   "display_name": "Python 2",
   "language": "python",
   "name": "python2"
  },
  "language_info": {
   "codemirror_mode": {
    "name": "ipython",
    "version": 2
   },
   "file_extension": ".py",
   "mimetype": "text/x-python",
   "name": "python",
   "nbconvert_exporter": "python",
   "pygments_lexer": "ipython2",
   "version": "2.7.13"
  }
 },
 "nbformat": 4,
 "nbformat_minor": 2
}
